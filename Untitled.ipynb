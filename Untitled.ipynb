{
 "cells": [
  {
   "cell_type": "code",
   "execution_count": 64,
   "metadata": {},
   "outputs": [],
   "source": [
    "import tensorflow as tf\n",
    "from tensorflow import keras\n",
    "from tensorflow.keras import layers\n",
    "\n",
    "import pandas as pd"
   ]
  },
  {
   "cell_type": "code",
   "execution_count": 65,
   "metadata": {},
   "outputs": [],
   "source": [
    "\n",
    "x_train_all = pd.read_csv(\"D:/OneDrive - King's College London/SNNAP project/Stroke Data/SSNAPds_pneumonia_training.csv\")\n",
    "x_test_all = pd.read_csv(\"D:/OneDrive - King's College London/SNNAP project/Stroke Data/SSNAPds_pneumonia_test.csv\")\n",
    "x_2019_all = pd.read_csv(\"D:/OneDrive - King's College London/SNNAP project/Stroke Data/SSNAPds_pneumonia_2019.csv\")\n"
   ]
  },
  {
   "cell_type": "code",
   "execution_count": 66,
   "metadata": {},
   "outputs": [],
   "source": [
    "x_train = x_train_all.drop(['pneumonia_requiring_antibiotics.Yes'],1)\n",
    "y_train = x_train_all['pneumonia_requiring_antibiotics.Yes']\n",
    "x_test = x_test_all.drop(['pneumonia_requiring_antibiotics.Yes'],1)\n",
    "y_test = x_test_all['pneumonia_requiring_antibiotics.Yes']\n",
    "x_2019 = x_2019_all.drop(['pneumonia_requiring_antibiotics.Yes'],1)\n",
    "y_2019 = x_2019_all['pneumonia_requiring_antibiotics.Yes']"
   ]
  },
  {
   "cell_type": "code",
   "execution_count": null,
   "metadata": {},
   "outputs": [],
   "source": []
  },
  {
   "cell_type": "code",
   "execution_count": 86,
   "metadata": {},
   "outputs": [
    {
     "name": "stdout",
     "output_type": "stream",
     "text": [
      "Epoch 1/10\n",
      "29543/29543 [==============================] - 14s 486us/step - loss: 0.4003 - accuracy: 0.9134\n",
      "Epoch 2/10\n",
      "29543/29543 [==============================] - 14s 481us/step - loss: 0.3997 - accuracy: 0.9135\n",
      "Epoch 3/10\n",
      "29543/29543 [==============================] - 14s 469us/step - loss: 0.3997 - accuracy: 0.9135\n",
      "Epoch 4/10\n",
      "29543/29543 [==============================] - 14s 462us/step - loss: 0.3997 - accuracy: 0.9135\n",
      "Epoch 5/10\n",
      "29543/29543 [==============================] - 14s 463us/step - loss: 0.3997 - accuracy: 0.9135\n",
      "Epoch 6/10\n",
      "29543/29543 [==============================] - 14s 475us/step - loss: 0.3997 - accuracy: 0.9135\n",
      "Epoch 7/10\n",
      "29543/29543 [==============================] - 14s 475us/step - loss: 0.3997 - accuracy: 0.9135\n",
      "Epoch 8/10\n",
      "29543/29543 [==============================] - 14s 472us/step - loss: 0.3997 - accuracy: 0.9135\n",
      "Epoch 9/10\n",
      "29543/29543 [==============================] - 14s 475us/step - loss: 0.3997 - accuracy: 0.9135\n",
      "Epoch 10/10\n",
      "29543/29543 [==============================] - 14s 475us/step - loss: 0.3997 - accuracy: 0.9135\n",
      "7390/7390 [==============================] - 3s 362us/step - loss: 0.3996 - accuracy: 0.9137\n",
      "3365/3365 [==============================] - 1s 369us/step - loss: 0.3928 - accuracy: 0.9204\n",
      "Model: \"functional_33\"\n",
      "_________________________________________________________________\n",
      "Layer (type)                 Output Shape              Param #   \n",
      "=================================================================\n",
      "input_17 (InputLayer)        [(None, 51)]              0         \n",
      "_________________________________________________________________\n",
      "dense_48 (Dense)             (None, 2)                 104       \n",
      "_________________________________________________________________\n",
      "dense_49 (Dense)             (None, 3)                 9         \n",
      "_________________________________________________________________\n",
      "dense_50 (Dense)             (None, 2)                 8         \n",
      "=================================================================\n",
      "Total params: 121\n",
      "Trainable params: 121\n",
      "Non-trainable params: 0\n",
      "_________________________________________________________________\n",
      "None\n"
     ]
    }
   ],
   "source": [
    "\n",
    "inputs = keras.Input(shape=x_train.shape[1])\n",
    "X = layers.Dense(2, activation='sigmoid')(inputs)\n",
    "X = layers.Dense(3, activation='sigmoid')(X)\n",
    "outputs = layers.Dense(2, activation='sigmoid')(X)\n",
    "model = keras.Model(inputs=inputs, outputs=outputs)\n",
    "\n",
    "model.compile(\n",
    "    loss=keras.losses.SparseCategoricalCrossentropy(from_logits=True),\n",
    "    optimizer=keras.optimizers.Adam(lr=0.01),\n",
    "    metrics=['accuracy'],\n",
    ")\n",
    "\n",
    "model.fit(x_train, y_train, batch_size=12, epochs=10, verbose= 1)\n",
    "model.evaluate(x_test, y_test, batch_size=12, verbose=1)\n",
    "model.evaluate(x_2019, y_2019, batch_size=12, verbose=1)\n",
    "print(model.summary())"
   ]
  },
  {
   "cell_type": "code",
   "execution_count": 78,
   "metadata": {},
   "outputs": [],
   "source": [
    "#pd.DataFrame(model.predict(x_2019,))"
   ]
  },
  {
   "cell_type": "code",
   "execution_count": 87,
   "metadata": {},
   "outputs": [],
   "source": [
    "prob_2019 = pd.DataFrame(model.predict(x_2019,),columns = ['0','1'])"
   ]
  },
  {
   "cell_type": "code",
   "execution_count": 88,
   "metadata": {},
   "outputs": [
    {
     "data": {
      "text/plain": [
       "0        6.772450e-11\n",
       "1        6.600404e-11\n",
       "2        5.680806e-11\n",
       "3        7.188845e-11\n",
       "4        5.864500e-11\n",
       "             ...     \n",
       "40368    5.113245e-11\n",
       "40369    5.113245e-11\n",
       "40370    5.113245e-11\n",
       "40371    5.113245e-11\n",
       "40372    5.113245e-11\n",
       "Name: 1, Length: 40373, dtype: float32"
      ]
     },
     "execution_count": 88,
     "metadata": {},
     "output_type": "execute_result"
    }
   ],
   "source": [
    "prob_2019['1']"
   ]
  },
  {
   "cell_type": "code",
   "execution_count": 89,
   "metadata": {},
   "outputs": [
    {
     "name": "stdout",
     "output_type": "stream",
     "text": [
      "1262/1262 - 0s - loss: 0.3928 - accuracy: 0.9204\n"
     ]
    },
    {
     "data": {
      "text/plain": [
       "[0.39282092452049255, 0.9204418659210205]"
      ]
     },
     "execution_count": 89,
     "metadata": {},
     "output_type": "execute_result"
    }
   ],
   "source": [
    "model.evaluate(x_2019, y_2019, batch_size=32, verbose=2)"
   ]
  },
  {
   "cell_type": "markdown",
   "metadata": {},
   "source": [
    "### calculate AUC"
   ]
  },
  {
   "cell_type": "code",
   "execution_count": 90,
   "metadata": {},
   "outputs": [
    {
     "name": "stdout",
     "output_type": "stream",
     "text": [
      "Logistic: ROC AUC=0.501\n"
     ]
    },
    {
     "data": {
      "image/png": "[encoded data removed]",
      "text/plain": [
       "<Figure size 432x288 with 1 Axes>"
      ]
     },
     "metadata": {
      "needs_background": "light"
     },
     "output_type": "display_data"
    }
   ],
   "source": [
    "\n",
    "# roc curve and auc\n",
    "import numpy as np\n",
    "import sklearn\n",
    "from sklearn.metrics import roc_curve\n",
    "from sklearn.metrics import roc_auc_score\n",
    "from matplotlib import pyplot\n",
    "\n",
    "## predict probabilities\n",
    "#lr_probs = model.predict_proba(testX)\n",
    "## keep probabilities for the positive outcome only\n",
    "#lr_probs = lr_probs[:, 1]\n",
    "# calculate scores\n",
    "\n",
    "lr_auc = roc_auc_score(y_2019, prob_2019['1'])\n",
    "# summarize scores\n",
    "\n",
    "print('Logistic: ROC AUC=%.3f' % (lr_auc))\n",
    "# calculate roc curves\n",
    "\n",
    "lr_fpr, lr_tpr, _ = roc_curve(y_2019, prob_2019['1'])\n",
    "# plot the roc curve for the model\n",
    "\n",
    "pyplot.plot(lr_fpr, lr_tpr, marker='.', label='Logistic')\n",
    "# axis labels\n",
    "pyplot.xlabel('False Positive Rate')\n",
    "pyplot.ylabel('True Positive Rate')\n",
    "# show the legend\n",
    "pyplot.legend()\n",
    "# show the plot\n",
    "pyplot.show()\n"
   ]
  },
  {
   "cell_type": "code",
   "execution_count": null,
   "metadata": {},
   "outputs": [],
   "source": []
  }
 ],
 "metadata": {
  "kernelspec": {
   "display_name": "Python 3",
   "language": "python",
   "name": "python3"
  },
  "language_info": {
   "codemirror_mode": {
    "name": "ipython",
    "version": 3
   },
   "file_extension": ".py",
   "mimetype": "text/x-python",
   "name": "python",
   "nbconvert_exporter": "python",
   "pygments_lexer": "ipython3",
   "version": "3.8.8"
  }
 },
 "nbformat": 4,
 "nbformat_minor": 2
}
